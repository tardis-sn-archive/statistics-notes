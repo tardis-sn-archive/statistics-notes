{
 "cells": [
  {
   "cell_type": "markdown",
   "metadata": {},
   "source": [
    "Generate my own data $x_i \\sim \\mbox{Gamma}(\\alpha=1.5, \\beta=60)$ and check that my method recover this. Use fairly few samples, and use only one term in $\\alpha$ and $\\beta$ polynomials. No need to transform from $\\ell \\to x$, we generate in $x$ directly"
   ]
  },
  {
   "cell_type": "code",
   "execution_count": 1,
   "metadata": {
    "collapsed": false
   },
   "outputs": [],
   "source": [
    "import Distributions, LaTeXStrings,optim, Plots, PyCall, Replica"
   ]
  },
  {
   "cell_type": "code",
   "execution_count": 2,
   "metadata": {
    "collapsed": false
   },
   "outputs": [
    {
     "data": {
      "text/plain": [
       "Plots.PyPlotBackend()"
      ]
     },
     "execution_count": 2,
     "metadata": {},
     "output_type": "execute_result"
    }
   ],
   "source": [
    "font = Plots.font(\"TeX Gyre Heros\")\n",
    "myfonts = Dict(:guidefont=>font,\n",
    ":xtickfont=>font, :ytickfont=>font, :legendfont=>font);\n",
    "Plots.pyplot(guidefont=font, xtickfont=font, ytickfont=font, legendfont=font)"
   ]
  },
  {
   "cell_type": "code",
   "execution_count": 58,
   "metadata": {
    "collapsed": false
   },
   "outputs": [
    {
     "data": {
      "text/html": [
       "1.0383018"
      ],
      "text/plain": [
       "1.0383018"
      ]
     },
     "execution_count": 58,
     "metadata": {},
     "output_type": "execute_result"
    }
   ],
   "source": [
    "α0 = 1.5; β0 = 60\n",
    "νmin=1.00677\n",
    "νmax=1.0383018"
   ]
  },
  {
   "cell_type": "code",
   "execution_count": 59,
   "metadata": {
    "collapsed": false,
    "scrolled": true
   },
   "outputs": [
    {
     "ename": "LoadError",
     "evalue": "LoadError: error compiling rand: error compiling _rand!: could not load library \"libRmath-julia\"\nlibRmath-julia.so: cannot open shared object file: No such file or directory\nwhile loading In[59], in expression starting on line 2",
     "output_type": "error",
     "traceback": [
      "LoadError: error compiling rand: error compiling _rand!: could not load library \"libRmath-julia\"\nlibRmath-julia.so: cannot open shared object file: No such file or directory\nwhile loading In[59], in expression starting on line 2",
      ""
     ]
    }
   ],
   "source": [
    "dist0 = Distributions.Gamma(α0, β0)\n",
    "Plots.histogram(rand(dist0, 1000))"
   ]
  },
  {
   "cell_type": "markdown",
   "metadata": {},
   "source": [
    "Do we need to make up frequencies? Not really, we just care about one bin, but for compatibility, we do"
   ]
  },
  {
   "cell_type": "code",
   "execution_count": 60,
   "metadata": {
    "collapsed": false
   },
   "outputs": [
    {
     "data": {
      "text/html": [
       "0.6314524897495356"
      ],
      "text/plain": [
       "0.6314524897495356"
      ]
     },
     "execution_count": 60,
     "metadata": {},
     "output_type": "execute_result"
    }
   ],
   "source": [
    "# define order of linear models\n",
    "αOrder = 1\n",
    "βOrder = 1\n",
    "npackets=2000\n",
    "\n",
    "# read in data from tardis and create posterior\n",
    "dim = αOrder + βOrder\n",
    "∇res, Hres = optim.allocations(dim)\n",
    "frame, (P, ∇P!, HP!) = optim.problem(αOrder=αOrder, βOrder=βOrder, run=99, npackets=npackets);\n",
    "\n",
    "# now change the energies\n",
    "PyCall.@pyimport numpy.random as nprand\n",
    "nprand.seed(138)\n",
    "PyCall.@pyimport scipy.stats as stats\n",
    "dist0 = stats.gamma(α0, scale=1/β0)\n",
    "# crucial: change frame in place, else optimization runs with old energies!\n",
    "frame[:energies][:] = dist0[:rvs](size=length(frame[:energies]))\n",
    "# Plots.histogram(frame[:energies])\n",
    "\n",
    "# the observed number of packets in the bin\n",
    "nmin=searchsortedfirst(frame[:nus], νmin)\n",
    "nmax=searchsortedlast(frame[:nus], νmax)\n",
    "n = nmax - nmin + 1\n",
    "x = sum(frame[:energies][nmin:nmax])\n",
    "\n",
    "# for testing\n",
    "# n = 291\n",
    "# x= 7.389999302674019"
   ]
  },
  {
   "cell_type": "code",
   "execution_count": 61,
   "metadata": {
    "collapsed": false
   },
   "outputs": [
    {
     "name": "stdout",
     "output_type": "stream",
     "text": [
      "  0.332711 seconds (9.72 M allocations: 148.306 MB, 5.85% gc time)\n",
      "got 4129.358730514852 at [1.57222,64.206] (returned XTOL_REACHED) and evidence 4128.531888369906\n"
     ]
    }
   ],
   "source": [
    "# compute the posterior mode to estimate the evidence\n",
    "# start optimization at true values\n",
    "@time maxP, posterior_mode, ret = optim.run_nlopt(frame, P, ∇P!, HP!,\n",
    "    αOrder, βOrder, xtol_rel=1e-8, init=1.001*[α0, β0])\n",
    "HP!(posterior_mode, Hres)\n",
    "evidence = optim.laplace(maxP, Hres)\n",
    "println(\"got $maxP at $(posterior_mode) (returned $ret) and evidence $evidence\")"
   ]
  },
  {
   "cell_type": "markdown",
   "metadata": {},
   "source": [
    "The mode matches the input values well"
   ]
  },
  {
   "cell_type": "code",
   "execution_count": 62,
   "metadata": {
    "collapsed": false
   },
   "outputs": [
    {
     "name": "stdout",
     "output_type": "stream",
     "text": [
      "  0.214584 seconds (5.96 M allocations: 91.020 MB, 5.45% gc time)\n",
      "max of normalized posterior = 0.5409256484643237 at [1.57043,63.8467], returned XTOL_REACHED\n"
     ]
    }
   ],
   "source": [
    "# the posterior mean with the normalized posterior\n",
    "# predict at bin center\n",
    "# ν, X, N\n",
    "pm = optim.PosteriorMean((νmax + νmin)/2, x, convert(Float64, n))\n",
    "Pmean, ∇Pmean!, HPmean! = optim.targetfactory(frame, αOrder, βOrder, evidence=evidence, pm=pm)\n",
    "@time maxPmean, mean_mode, ret = optim.run_nlopt(frame, Pmean, ∇Pmean!, HPmean!, αOrder, βOrder,\n",
    "init=posterior_mode, xtol_rel=1e-6)\n",
    "println(\"max of normalized posterior = $maxPmean at $(mean_mode), returned $ret\")\n",
    "\n",
    "# n, a\n",
    "nb = optim.NegBinom(n, 1.);"
   ]
  },
  {
   "cell_type": "markdown",
   "metadata": {},
   "source": [
    "The **mode comes out pretty much at the input values** but the normalization seems off, it is very small but should be close to zero"
   ]
  },
  {
   "cell_type": "code",
   "execution_count": 75,
   "metadata": {
    "collapsed": false
   },
   "outputs": [
    {
     "name": "stdout",
     "output_type": "stream",
     "text": [
      "initial N=5\n",
      "initial N=8\n",
      "initial N=11\n",
      "initial N=13\n",
      "initial N=15\n",
      "initial N=18\n",
      "initial N=20\n",
      "initial N=22\n",
      "initial N=24\n",
      "initial N=26\n",
      "initial N=28\n",
      "initial N=30\n",
      "initial N=32\n",
      "initial N=34\n",
      "initial N=36\n",
      "initial N=37\n",
      "initial N=39\n",
      "initial N=41\n",
      "initial N=43\n",
      "initial N=45\n",
      "initial N=47\n",
      "initial N=49\n",
      "initial N=51\n",
      "initial N=52\n"
     ]
    }
   ],
   "source": [
    "# compute points from quantiles of Gamma\n",
    "points = collect(linspace(max(x-4, 0.0), x+1, 25))\n",
    "distn = stats.gamma(n*α0, scale=1/β0)\n",
    "# points = collect(linspace(distn[:ppf](1e-6), dist0[:ppf](1-1e-6), 25))\n",
    "results = zeros(points)\n",
    "# skip X = 0, start at 2\n",
    "for i in 2:length(points)\n",
    "    pm.X = points[i]\n",
    "    results[i] = optim.predict_small(frame, Pmean, ∇Pmean!, HPmean!, pm, αOrder, βOrder, posterior_mode,\n",
    "    nb, optimize=false)\n",
    "end"
   ]
  },
  {
   "cell_type": "code",
   "execution_count": 76,
   "metadata": {
    "collapsed": false,
    "scrolled": false
   },
   "outputs": [
    {
     "name": "stdout",
     "output_type": "stream",
     "text": [
      "norm = 0.9896660303715538\n",
      "[0.0,0.0382257,0.267402,0.806557,1.52846,2.12888,2.37427,2.22993,1.83763,1.35083,0.904906,0.563298,0.326132,0.178319,0.092353,0.0457798,0.0217632,0.00994207,0.00438859,0.00188302,0.000783312,0.000317365,0.000125887,4.86965e-5,1.84462e-5]\n"
     ]
    },
    {
     "data": {
      "text/html": [
       "<img src=\"data:image/png;base64,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\" />"
      ]
     },
     "execution_count": 76,
     "metadata": {},
     "output_type": "execute_result"
    }
   ],
   "source": [
    "using LaTeXStrings\n",
    "# self-normalize estimates through Simpson's rule\n",
    "PyCall.@pyimport scipy.integrate as si\n",
    "normalization = si.simps(results, points)\n",
    "println(\"norm = $normalization\")\n",
    "results /= normalization\n",
    "println(results)\n",
    "\n",
    "Plots.plot(points, results, xlabel=\"X\", label=L\"\\sum_N\")\n",
    "finepoints = collect(linspace(points[1], points[end], 200))\n",
    "Plots.plot!(finepoints, distn[:pdf](finepoints), label=\"Gamma(n α, β)\")\n",
    "Plots.vline!([x], line=:red, label=\"observed\")"
   ]
  },
  {
   "cell_type": "markdown",
   "metadata": {},
   "source": [
    "If we use only 1000 instead of 10000 samples, prediction nearly identical $\\Rightarrow$ broadening is due to the Poisson term"
   ]
  },
  {
   "cell_type": "code",
   "execution_count": 50,
   "metadata": {
    "collapsed": true
   },
   "outputs": [],
   "source": [
    "using Optim"
   ]
  },
  {
   "cell_type": "code",
   "execution_count": 51,
   "metadata": {
    "collapsed": false
   },
   "outputs": [
    {
     "data": {
      "text/plain": [
       "Results of Optimization Algorithm\n",
       " * Algorithm: BFGS\n",
       " * Starting Point: [1.5750000000000002,63.0]\n",
       " * Minimizer: [1.572218407451092,64.20608193369826]\n",
       " * Minimum: -4.129359e+03\n",
       " * Iterations: 6\n",
       " * Convergence: true\n",
       "   * |x - x'| < 1.0e-32: false\n",
       "   * |f(x) - f(x')| / |f(x)| < 1.0e-32: true\n",
       "   * |g(x)| < 1.0e-08: false\n",
       "   * Reached Maximum Number of Iterations: false\n",
       " * Objective Function Calls: 27\n",
       " * Gradient Calls: 27"
      ]
     },
     "execution_count": 51,
     "metadata": {},
     "output_type": "execute_result"
    }
   ],
   "source": [
    "optimize(x->-P(x), 1.05*[α0, β0], BFGS())"
   ]
  }
 ],
 "metadata": {
  "kernelspec": {
   "display_name": "Julia 0.5.0",
   "language": "julia",
   "name": "julia-0.5"
  },
  "language_info": {
   "file_extension": ".jl",
   "mimetype": "application/julia",
   "name": "julia",
   "version": "0.5.0"
  }
 },
 "nbformat": 4,
 "nbformat_minor": 1
}
